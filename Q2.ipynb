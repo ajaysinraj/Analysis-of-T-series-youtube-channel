{
 "cells": [
  {
   "cell_type": "code",
   "execution_count": 110,
   "metadata": {},
   "outputs": [],
   "source": [
    "import pandas as pd # for importing file use of data structure \n",
    "import numpy as np # using for mathmatical function"
   ]
  },
  {
   "cell_type": "code",
   "execution_count": 167,
   "metadata": {},
   "outputs": [],
   "source": [
    "tseries=pd.read_csv('tseries.csv')"
   ]
  },
  {
   "cell_type": "markdown",
   "metadata": {},
   "source": [
    "### Q.2 Perform analysis on any youtube channel of your choice and share the link to the python script with   analysis result and with the description of all modules and libraries that you have used and why did you choose that particular library? (Preferable Jupyter Notebook with result)"
   ]
  },
  {
   "cell_type": "markdown",
   "metadata": {},
   "source": [
    "#### link : https://www.statsheep.com/tseries/28days"
   ]
  },
  {
   "cell_type": "markdown",
   "metadata": {},
   "source": [
    " ** I choose india's no 1 youtube music channel t-series that was founded by gulsan kumar in 1983 it has 125 million subscriber\n",
    " \n",
    " ** my first challenge is to collecting data of youtube channel and it is very difficult to find because data is not open source  but after researching websites I got the website where it store all the statistical data of youtube twitter facebook and other social media platform \n",
    " \n",
    " **  https://socialblade.com that describe statistics and forecasting about channel \n",
    " \n",
    " ** from https://socialblade.com we collect much information about tseries\n",
    " \n",
    " ** At socialblade the rank of tseries is no'1 and grade is A++ (link: https://socialblade.com/youtube/user/tseries)\n",
    " \n",
    " ** So we collect two dataset of tseries first is information about channel like how much subscriber , views , total earning \n",
    "  \n",
    "  ** second dataset about user video link: (https://socialblade.com/youtube/user/tseries/videos) in this there is latest 50 songs release by tseries\n",
    "  \n",
    "  ** we analyse both dataset one by one\n",
    "  \n",
    "  ## I import data from this website  (https://www.statsheep.com/tseries/28days) using MS EXCEL \n",
    " "
   ]
  },
  {
   "cell_type": "markdown",
   "metadata": {},
   "source": [
    "## EDA \n",
    "\n",
    "## information about channel"
   ]
  },
  {
   "cell_type": "markdown",
   "metadata": {},
   "source": [
    "### Feature description\n"
   ]
  },
  {
   "cell_type": "code",
   "execution_count": null,
   "metadata": {},
   "outputs": [],
   "source": [
    "# Date - collecting information of date\n",
    "# Change_subscribers - How much change in subscribers with time\n",
    "# total_subscribers - total subscribers of the channel\n",
    "# change_views - change in views with time is difference between total views on today and yesterday or we can say views in one day\n",
    "# total views - total views of channel\n",
    "# estimate_earning- total earning range between in dollars "
   ]
  },
  {
   "cell_type": "code",
   "execution_count": 168,
   "metadata": {},
   "outputs": [
    {
     "data": {
      "text/html": [
       "<div>\n",
       "<style scoped>\n",
       "    .dataframe tbody tr th:only-of-type {\n",
       "        vertical-align: middle;\n",
       "    }\n",
       "\n",
       "    .dataframe tbody tr th {\n",
       "        vertical-align: top;\n",
       "    }\n",
       "\n",
       "    .dataframe thead th {\n",
       "        text-align: right;\n",
       "    }\n",
       "</style>\n",
       "<table border=\"1\" class=\"dataframe\">\n",
       "  <thead>\n",
       "    <tr style=\"text-align: right;\">\n",
       "      <th></th>\n",
       "      <th>Date</th>\n",
       "      <th>Change_Subscribers</th>\n",
       "      <th>Total_Subscribers</th>\n",
       "      <th>Change_views</th>\n",
       "      <th>Total_views</th>\n",
       "      <th>Estimated_Earnings</th>\n",
       "    </tr>\n",
       "  </thead>\n",
       "  <tbody>\n",
       "    <tr>\n",
       "      <th>0</th>\n",
       "      <td>14-01-2020</td>\n",
       "      <td>10,00,000</td>\n",
       "      <td>12,40,00,000</td>\n",
       "      <td>11,37,56,341</td>\n",
       "      <td>95,32,61,02,355</td>\n",
       "      <td>$56,878 - $227,513</td>\n",
       "    </tr>\n",
       "    <tr>\n",
       "      <th>1</th>\n",
       "      <td>15-01-2020</td>\n",
       "      <td>--</td>\n",
       "      <td>12,50,00,000</td>\n",
       "      <td>13,39,28,337</td>\n",
       "      <td>95,43,98,58,696</td>\n",
       "      <td>$66,964 - $267,857</td>\n",
       "    </tr>\n",
       "    <tr>\n",
       "      <th>2</th>\n",
       "      <td>16-01-2020</td>\n",
       "      <td>--</td>\n",
       "      <td>12,50,00,000</td>\n",
       "      <td>12,43,62,406</td>\n",
       "      <td>95,57,37,87,033</td>\n",
       "      <td>$62,181 - $248,725</td>\n",
       "    </tr>\n",
       "    <tr>\n",
       "      <th>3</th>\n",
       "      <td>17-01-2020</td>\n",
       "      <td>--</td>\n",
       "      <td>12,50,00,000</td>\n",
       "      <td>11,88,84,797</td>\n",
       "      <td>95,69,81,49,439</td>\n",
       "      <td>$59,442 - $237,770</td>\n",
       "    </tr>\n",
       "    <tr>\n",
       "      <th>4</th>\n",
       "      <td>18-01-2020</td>\n",
       "      <td>--</td>\n",
       "      <td>12,50,00,000</td>\n",
       "      <td>12,92,27,936</td>\n",
       "      <td>95,81,70,34,236</td>\n",
       "      <td>$64,614 - $258,456</td>\n",
       "    </tr>\n",
       "  </tbody>\n",
       "</table>\n",
       "</div>"
      ],
      "text/plain": [
       "         Date Change_Subscribers Total_Subscribers  Change_views  \\\n",
       "0  14-01-2020          10,00,000      12,40,00,000  11,37,56,341   \n",
       "1  15-01-2020                 --      12,50,00,000  13,39,28,337   \n",
       "2  16-01-2020                 --      12,50,00,000  12,43,62,406   \n",
       "3  17-01-2020                 --      12,50,00,000  11,88,84,797   \n",
       "4  18-01-2020                 --      12,50,00,000  12,92,27,936   \n",
       "\n",
       "       Total_views  Estimated_Earnings  \n",
       "0  95,32,61,02,355  $56,878 - $227,513  \n",
       "1  95,43,98,58,696  $66,964 - $267,857  \n",
       "2  95,57,37,87,033  $62,181 - $248,725  \n",
       "3  95,69,81,49,439  $59,442 - $237,770  \n",
       "4  95,81,70,34,236  $64,614 - $258,456  "
      ]
     },
     "execution_count": 168,
     "metadata": {},
     "output_type": "execute_result"
    }
   ],
   "source": [
    "tseries.head()"
   ]
  },
  {
   "cell_type": "code",
   "execution_count": 169,
   "metadata": {},
   "outputs": [
    {
     "data": {
      "text/plain": [
       "(88, 6)"
      ]
     },
     "execution_count": 169,
     "metadata": {},
     "output_type": "execute_result"
    }
   ],
   "source": [
    "tseries.shape"
   ]
  },
  {
   "cell_type": "code",
   "execution_count": 170,
   "metadata": {},
   "outputs": [],
   "source": [
    "tseries.dropna(inplace=True) # because of last rows are null so we drop those rows \n",
    "# data is only 4 weeks "
   ]
  },
  {
   "cell_type": "code",
   "execution_count": 171,
   "metadata": {},
   "outputs": [
    {
     "data": {
      "text/plain": [
       "(28, 6)"
      ]
     },
     "execution_count": 171,
     "metadata": {},
     "output_type": "execute_result"
    }
   ],
   "source": [
    "tseries.shape# after reoving null values "
   ]
  },
  {
   "cell_type": "code",
   "execution_count": 172,
   "metadata": {},
   "outputs": [],
   "source": [
    "# data need so much cleaning it has lot of noise"
   ]
  },
  {
   "cell_type": "code",
   "execution_count": 173,
   "metadata": {},
   "outputs": [
    {
     "data": {
      "text/html": [
       "<div>\n",
       "<style scoped>\n",
       "    .dataframe tbody tr th:only-of-type {\n",
       "        vertical-align: middle;\n",
       "    }\n",
       "\n",
       "    .dataframe tbody tr th {\n",
       "        vertical-align: top;\n",
       "    }\n",
       "\n",
       "    .dataframe thead th {\n",
       "        text-align: right;\n",
       "    }\n",
       "</style>\n",
       "<table border=\"1\" class=\"dataframe\">\n",
       "  <thead>\n",
       "    <tr style=\"text-align: right;\">\n",
       "      <th></th>\n",
       "      <th>Date</th>\n",
       "      <th>Change_Subscribers</th>\n",
       "      <th>Total_Subscribers</th>\n",
       "      <th>Change_views</th>\n",
       "      <th>Total_views</th>\n",
       "      <th>Estimated_Earnings</th>\n",
       "    </tr>\n",
       "  </thead>\n",
       "  <tbody>\n",
       "    <tr>\n",
       "      <th>0</th>\n",
       "      <td>14-01-2020</td>\n",
       "      <td>10,00,000</td>\n",
       "      <td>12,40,00,000</td>\n",
       "      <td>11,37,56,341</td>\n",
       "      <td>95,32,61,02,355</td>\n",
       "      <td>$56,878 - $227,513</td>\n",
       "    </tr>\n",
       "    <tr>\n",
       "      <th>1</th>\n",
       "      <td>15-01-2020</td>\n",
       "      <td>--</td>\n",
       "      <td>12,50,00,000</td>\n",
       "      <td>13,39,28,337</td>\n",
       "      <td>95,43,98,58,696</td>\n",
       "      <td>$66,964 - $267,857</td>\n",
       "    </tr>\n",
       "    <tr>\n",
       "      <th>2</th>\n",
       "      <td>16-01-2020</td>\n",
       "      <td>--</td>\n",
       "      <td>12,50,00,000</td>\n",
       "      <td>12,43,62,406</td>\n",
       "      <td>95,57,37,87,033</td>\n",
       "      <td>$62,181 - $248,725</td>\n",
       "    </tr>\n",
       "    <tr>\n",
       "      <th>3</th>\n",
       "      <td>17-01-2020</td>\n",
       "      <td>--</td>\n",
       "      <td>12,50,00,000</td>\n",
       "      <td>11,88,84,797</td>\n",
       "      <td>95,69,81,49,439</td>\n",
       "      <td>$59,442 - $237,770</td>\n",
       "    </tr>\n",
       "    <tr>\n",
       "      <th>4</th>\n",
       "      <td>18-01-2020</td>\n",
       "      <td>--</td>\n",
       "      <td>12,50,00,000</td>\n",
       "      <td>12,92,27,936</td>\n",
       "      <td>95,81,70,34,236</td>\n",
       "      <td>$64,614 - $258,456</td>\n",
       "    </tr>\n",
       "  </tbody>\n",
       "</table>\n",
       "</div>"
      ],
      "text/plain": [
       "         Date Change_Subscribers Total_Subscribers  Change_views  \\\n",
       "0  14-01-2020          10,00,000      12,40,00,000  11,37,56,341   \n",
       "1  15-01-2020                 --      12,50,00,000  13,39,28,337   \n",
       "2  16-01-2020                 --      12,50,00,000  12,43,62,406   \n",
       "3  17-01-2020                 --      12,50,00,000  11,88,84,797   \n",
       "4  18-01-2020                 --      12,50,00,000  12,92,27,936   \n",
       "\n",
       "       Total_views  Estimated_Earnings  \n",
       "0  95,32,61,02,355  $56,878 - $227,513  \n",
       "1  95,43,98,58,696  $66,964 - $267,857  \n",
       "2  95,57,37,87,033  $62,181 - $248,725  \n",
       "3  95,69,81,49,439  $59,442 - $237,770  \n",
       "4  95,81,70,34,236  $64,614 - $258,456  "
      ]
     },
     "execution_count": 173,
     "metadata": {},
     "output_type": "execute_result"
    }
   ],
   "source": [
    "tseries.head()"
   ]
  },
  {
   "cell_type": "code",
   "execution_count": 174,
   "metadata": {},
   "outputs": [],
   "source": [
    "# In date column we need only date of day to analyse or plotting beacause of less data year and month is almost same\n",
    "D=tseries['Date'].str.split(\"-\",expand=True).astype(int)\n",
    "tseries['Date_day']=D[0]"
   ]
  },
  {
   "cell_type": "code",
   "execution_count": 175,
   "metadata": {},
   "outputs": [],
   "source": [
    "tseries.drop('Date',axis=1,inplace=True)"
   ]
  },
  {
   "cell_type": "code",
   "execution_count": 176,
   "metadata": {},
   "outputs": [
    {
     "data": {
      "text/plain": [
       "0    10,00,000\n",
       "1           --\n",
       "2           --\n",
       "3           --\n",
       "4           --\n",
       "Name: Change_Subscribers, dtype: object"
      ]
     },
     "execution_count": 176,
     "metadata": {},
     "output_type": "execute_result"
    }
   ],
   "source": [
    "tseries['Change_Subscribers'].head() # we have also not much deep data of  change_subscriber with date or month\n",
    "#so we also drop \n"
   ]
  },
  {
   "cell_type": "code",
   "execution_count": 177,
   "metadata": {},
   "outputs": [],
   "source": [
    "tseries.drop('Change_Subscribers',axis=1,inplace=True)"
   ]
  },
  {
   "cell_type": "code",
   "execution_count": 178,
   "metadata": {},
   "outputs": [
    {
     "data": {
      "text/html": [
       "<div>\n",
       "<style scoped>\n",
       "    .dataframe tbody tr th:only-of-type {\n",
       "        vertical-align: middle;\n",
       "    }\n",
       "\n",
       "    .dataframe tbody tr th {\n",
       "        vertical-align: top;\n",
       "    }\n",
       "\n",
       "    .dataframe thead th {\n",
       "        text-align: right;\n",
       "    }\n",
       "</style>\n",
       "<table border=\"1\" class=\"dataframe\">\n",
       "  <thead>\n",
       "    <tr style=\"text-align: right;\">\n",
       "      <th></th>\n",
       "      <th>Total_Subscribers</th>\n",
       "      <th>Change_views</th>\n",
       "      <th>Total_views</th>\n",
       "      <th>Estimated_Earnings</th>\n",
       "      <th>Date_day</th>\n",
       "    </tr>\n",
       "  </thead>\n",
       "  <tbody>\n",
       "    <tr>\n",
       "      <th>0</th>\n",
       "      <td>12,40,00,000</td>\n",
       "      <td>11,37,56,341</td>\n",
       "      <td>95,32,61,02,355</td>\n",
       "      <td>$56,878 - $227,513</td>\n",
       "      <td>14</td>\n",
       "    </tr>\n",
       "    <tr>\n",
       "      <th>1</th>\n",
       "      <td>12,50,00,000</td>\n",
       "      <td>13,39,28,337</td>\n",
       "      <td>95,43,98,58,696</td>\n",
       "      <td>$66,964 - $267,857</td>\n",
       "      <td>15</td>\n",
       "    </tr>\n",
       "    <tr>\n",
       "      <th>2</th>\n",
       "      <td>12,50,00,000</td>\n",
       "      <td>12,43,62,406</td>\n",
       "      <td>95,57,37,87,033</td>\n",
       "      <td>$62,181 - $248,725</td>\n",
       "      <td>16</td>\n",
       "    </tr>\n",
       "    <tr>\n",
       "      <th>3</th>\n",
       "      <td>12,50,00,000</td>\n",
       "      <td>11,88,84,797</td>\n",
       "      <td>95,69,81,49,439</td>\n",
       "      <td>$59,442 - $237,770</td>\n",
       "      <td>17</td>\n",
       "    </tr>\n",
       "    <tr>\n",
       "      <th>4</th>\n",
       "      <td>12,50,00,000</td>\n",
       "      <td>12,92,27,936</td>\n",
       "      <td>95,81,70,34,236</td>\n",
       "      <td>$64,614 - $258,456</td>\n",
       "      <td>18</td>\n",
       "    </tr>\n",
       "  </tbody>\n",
       "</table>\n",
       "</div>"
      ],
      "text/plain": [
       "  Total_Subscribers  Change_views      Total_views  Estimated_Earnings  \\\n",
       "0      12,40,00,000  11,37,56,341  95,32,61,02,355  $56,878 - $227,513   \n",
       "1      12,50,00,000  13,39,28,337  95,43,98,58,696  $66,964 - $267,857   \n",
       "2      12,50,00,000  12,43,62,406  95,57,37,87,033  $62,181 - $248,725   \n",
       "3      12,50,00,000  11,88,84,797  95,69,81,49,439  $59,442 - $237,770   \n",
       "4      12,50,00,000  12,92,27,936  95,81,70,34,236  $64,614 - $258,456   \n",
       "\n",
       "   Date_day  \n",
       "0        14  \n",
       "1        15  \n",
       "2        16  \n",
       "3        17  \n",
       "4        18  "
      ]
     },
     "execution_count": 178,
     "metadata": {},
     "output_type": "execute_result"
    }
   ],
   "source": [
    "tseries.head() # we need some cleaning like removing comma ,hyphen"
   ]
  },
  {
   "cell_type": "code",
   "execution_count": 179,
   "metadata": {},
   "outputs": [],
   "source": [
    "tseries['Total_Subscribers']=tseries['Total_Subscribers'].str.replace(',','') # removing comma from these columns \n",
    "tseries['Change_views']=tseries['Change_views'].str.replace(',','')\n",
    "tseries['Total_views']=tseries['Total_views'].str.replace(',','')"
   ]
  },
  {
   "cell_type": "code",
   "execution_count": 182,
   "metadata": {},
   "outputs": [
    {
     "data": {
      "text/plain": [
       "array(['$56,878 - $227,513', '$66,964 - $267,857', '$62,181 - $248,725',\n",
       "       '$59,442 - $237,770', '$64,614 - $258,456', '$54,529 - $218,117',\n",
       "       '$69,211 - $276,842', '$60,053 - $240,211', '$61,126 - $244,503',\n",
       "       '$68,064 - $272,256', '$63,288 - $253,152', '$65,693 - $262,770',\n",
       "       '$62,021 - $248,084', '$64,835 - $259,340', '$70,462 - $281,848',\n",
       "       '$62,099 - $248,397', '$62,296 - $249,182', '$62,050 - $248,200',\n",
       "       '$68,250 - $273,000', '$58,117 - $232,467', '$62,985 - $251,938',\n",
       "       '$64,060 - $256,239', '$62,420 - $249,680', '$61,279 - $245,115',\n",
       "       '$62,604 - $250,416', '$68,136 - $272,546', '$58,511 - $234,044',\n",
       "       '$70,050 - $280,200'], dtype=object)"
      ]
     },
     "execution_count": 182,
     "metadata": {},
     "output_type": "execute_result"
    }
   ],
   "source": [
    "tseries['Estimated_Earnings'].unique() # we also remove noise like $ and comma"
   ]
  },
  {
   "cell_type": "code",
   "execution_count": 183,
   "metadata": {},
   "outputs": [],
   "source": [
    "tseries['Estimated_Earnings']=tseries['Estimated_Earnings'].str.replace('$','')\n",
    "tseries['Estimated_Earnings']=tseries['Estimated_Earnings'].str.replace(',','')"
   ]
  },
  {
   "cell_type": "code",
   "execution_count": 184,
   "metadata": {},
   "outputs": [
    {
     "data": {
      "text/plain": [
       "array(['56878 - 227513', '66964 - 267857', '62181 - 248725',\n",
       "       '59442 - 237770', '64614 - 258456', '54529 - 218117',\n",
       "       '69211 - 276842', '60053 - 240211', '61126 - 244503',\n",
       "       '68064 - 272256', '63288 - 253152', '65693 - 262770',\n",
       "       '62021 - 248084', '64835 - 259340', '70462 - 281848',\n",
       "       '62099 - 248397', '62296 - 249182', '62050 - 248200',\n",
       "       '68250 - 273000', '58117 - 232467', '62985 - 251938',\n",
       "       '64060 - 256239', '62420 - 249680', '61279 - 245115',\n",
       "       '62604 - 250416', '68136 - 272546', '58511 - 234044',\n",
       "       '70050 - 280200'], dtype=object)"
      ]
     },
     "execution_count": 184,
     "metadata": {},
     "output_type": "execute_result"
    }
   ],
   "source": [
    "tseries['Estimated_Earnings'].unique() # after removing of noise"
   ]
  },
  {
   "cell_type": "code",
   "execution_count": 185,
   "metadata": {},
   "outputs": [
    {
     "data": {
      "text/html": [
       "<div>\n",
       "<style scoped>\n",
       "    .dataframe tbody tr th:only-of-type {\n",
       "        vertical-align: middle;\n",
       "    }\n",
       "\n",
       "    .dataframe tbody tr th {\n",
       "        vertical-align: top;\n",
       "    }\n",
       "\n",
       "    .dataframe thead th {\n",
       "        text-align: right;\n",
       "    }\n",
       "</style>\n",
       "<table border=\"1\" class=\"dataframe\">\n",
       "  <thead>\n",
       "    <tr style=\"text-align: right;\">\n",
       "      <th></th>\n",
       "      <th>Total_Subscribers</th>\n",
       "      <th>Change_views</th>\n",
       "      <th>Total_views</th>\n",
       "      <th>Estimated_Earnings</th>\n",
       "      <th>Date_day</th>\n",
       "    </tr>\n",
       "  </thead>\n",
       "  <tbody>\n",
       "    <tr>\n",
       "      <th>0</th>\n",
       "      <td>124000000</td>\n",
       "      <td>113756341</td>\n",
       "      <td>95326102355</td>\n",
       "      <td>56878 - 227513</td>\n",
       "      <td>14</td>\n",
       "    </tr>\n",
       "    <tr>\n",
       "      <th>1</th>\n",
       "      <td>125000000</td>\n",
       "      <td>133928337</td>\n",
       "      <td>95439858696</td>\n",
       "      <td>66964 - 267857</td>\n",
       "      <td>15</td>\n",
       "    </tr>\n",
       "    <tr>\n",
       "      <th>2</th>\n",
       "      <td>125000000</td>\n",
       "      <td>124362406</td>\n",
       "      <td>95573787033</td>\n",
       "      <td>62181 - 248725</td>\n",
       "      <td>16</td>\n",
       "    </tr>\n",
       "    <tr>\n",
       "      <th>3</th>\n",
       "      <td>125000000</td>\n",
       "      <td>118884797</td>\n",
       "      <td>95698149439</td>\n",
       "      <td>59442 - 237770</td>\n",
       "      <td>17</td>\n",
       "    </tr>\n",
       "    <tr>\n",
       "      <th>4</th>\n",
       "      <td>125000000</td>\n",
       "      <td>129227936</td>\n",
       "      <td>95817034236</td>\n",
       "      <td>64614 - 258456</td>\n",
       "      <td>18</td>\n",
       "    </tr>\n",
       "  </tbody>\n",
       "</table>\n",
       "</div>"
      ],
      "text/plain": [
       "  Total_Subscribers Change_views  Total_views Estimated_Earnings  Date_day\n",
       "0         124000000    113756341  95326102355     56878 - 227513        14\n",
       "1         125000000    133928337  95439858696     66964 - 267857        15\n",
       "2         125000000    124362406  95573787033     62181 - 248725        16\n",
       "3         125000000    118884797  95698149439     59442 - 237770        17\n",
       "4         125000000    129227936  95817034236     64614 - 258456        18"
      ]
     },
     "execution_count": 185,
     "metadata": {},
     "output_type": "execute_result"
    }
   ],
   "source": [
    "tseries.head() # In estimate earning there is large difference between there values so we can't take average values\n",
    "# my approch is I break into minimum earning and maximum earning"
   ]
  },
  {
   "cell_type": "code",
   "execution_count": 188,
   "metadata": {},
   "outputs": [],
   "source": [
    "E=tseries['Estimated_Earnings'].str.split(\"-\",expand=True).astype(int)\n",
    "tseries['min_earn']=E[0] # minimum earning\n",
    "tseries['max_earn']=E[1]# maximum earning"
   ]
  },
  {
   "cell_type": "code",
   "execution_count": 195,
   "metadata": {},
   "outputs": [],
   "source": [
    "# now we can drop Estimated_Earnings column \n",
    "tseries.drop('Estimated_Earnings',axis=1,inplace=True)"
   ]
  },
  {
   "cell_type": "code",
   "execution_count": 196,
   "metadata": {},
   "outputs": [
    {
     "data": {
      "text/plain": [
       "127000000    9\n",
       "125000000    8\n",
       "126000000    8\n",
       "128000000    2\n",
       "124000000    1\n",
       "Name: Total_Subscribers, dtype: int64"
      ]
     },
     "execution_count": 196,
     "metadata": {},
     "output_type": "execute_result"
    }
   ],
   "source": [
    "tseries['Total_Subscribers'].value_counts() # subscribers in million\n",
    "#"
   ]
  },
  {
   "cell_type": "code",
   "execution_count": 197,
   "metadata": {},
   "outputs": [],
   "source": [
    "import matplotlib.pyplot as plt"
   ]
  },
  {
   "cell_type": "code",
   "execution_count": 198,
   "metadata": {},
   "outputs": [
    {
     "data": {
      "text/plain": [
       "0     14\n",
       "1     15\n",
       "2     16\n",
       "3     17\n",
       "4     18\n",
       "5     19\n",
       "6     20\n",
       "7     21\n",
       "8     22\n",
       "9     23\n",
       "10    24\n",
       "11    25\n",
       "12    26\n",
       "13    27\n",
       "14    28\n",
       "15    29\n",
       "16    30\n",
       "17    31\n",
       "18     1\n",
       "19     2\n",
       "20     3\n",
       "21     4\n",
       "22     5\n",
       "23     6\n",
       "24     7\n",
       "25     8\n",
       "26     9\n",
       "27    10\n",
       "Name: Date_day, dtype: int32"
      ]
     },
     "execution_count": 198,
     "metadata": {},
     "output_type": "execute_result"
    }
   ],
   "source": [
    "tseries['Date_day']"
   ]
  },
  {
   "cell_type": "markdown",
   "metadata": {},
   "source": [
    "## Graph between date and number of subscription "
   ]
  },
  {
   "cell_type": "markdown",
   "metadata": {},
   "source": [
    "### 1) From this graph we can conclude that subscription is increasing with time \n",
    "\n",
    "### 2)  we know our data start from 14 jan to 10 feb \n",
    "\n",
    "### 3) so from graph  we see that at 15 jan 30 jan subscription was increase with time its reason could be independence day or something else but after 30 jan to 5 feb was constant\n",
    "\n",
    "### 4) Because of lack of data we have not deep informtion in this data only showing change with 1 million \n"
   ]
  },
  {
   "cell_type": "code",
   "execution_count": 201,
   "metadata": {},
   "outputs": [
    {
     "data": {
      "text/plain": [
       "Text(0.5, 0, 'Date of month')"
      ]
     },
     "execution_count": 201,
     "metadata": {},
     "output_type": "execute_result"
    },
    {
     "data": {
      "image/png": "[encoded data removed]",
      "text/plain": [
       "<Figure size 432x288 with 1 Axes>"
      ]
     },
     "metadata": {
      "needs_background": "light"
     },
     "output_type": "display_data"
    }
   ],
   "source": [
    "plt.plot(tseries['Date_day'],tseries['Total_Subscribers'])\n",
    "plt.ylabel('No of subscription ')\n",
    "plt.xlabel('Date of month')"
   ]
  },
  {
   "cell_type": "markdown",
   "metadata": {},
   "source": [
    "## Graph between date and change in views "
   ]
  },
  {
   "cell_type": "markdown",
   "metadata": {},
   "source": [
    "### 1) from graph we can say number of views from 15 jan to 10 feb  is increasing \n",
    "\n",
    "### 2)  change in views is difference between today and yesterday so we can say number of views on one day\n",
    "\n",
    "### 3) we can say total views in daily  is increasing with time (but we can't say increasing with time because it could be seasonal time so we can't say for this small data "
   ]
  },
  {
   "cell_type": "code",
   "execution_count": 202,
   "metadata": {},
   "outputs": [
    {
     "data": {
      "text/plain": [
       "Text(0.5, 0, 'Date of month')"
      ]
     },
     "execution_count": 202,
     "metadata": {},
     "output_type": "execute_result"
    },
    {
     "data": {
      "image/png": "[encoded data removed]",
      "text/plain": [
       "<Figure size 432x288 with 1 Axes>"
      ]
     },
     "metadata": {
      "needs_background": "light"
     },
     "output_type": "display_data"
    }
   ],
   "source": [
    "plt.plot(tseries['Date_day'],tseries['Change_views'])\n",
    "plt.ylabel('Change_views ') \n",
    "plt.xlabel('Date of month')  "
   ]
  },
  {
   "cell_type": "code",
   "execution_count": 206,
   "metadata": {},
   "outputs": [
    {
     "data": {
      "text/html": [
       "<div>\n",
       "<style scoped>\n",
       "    .dataframe tbody tr th:only-of-type {\n",
       "        vertical-align: middle;\n",
       "    }\n",
       "\n",
       "    .dataframe tbody tr th {\n",
       "        vertical-align: top;\n",
       "    }\n",
       "\n",
       "    .dataframe thead th {\n",
       "        text-align: right;\n",
       "    }\n",
       "</style>\n",
       "<table border=\"1\" class=\"dataframe\">\n",
       "  <thead>\n",
       "    <tr style=\"text-align: right;\">\n",
       "      <th></th>\n",
       "      <th>Total_Subscribers</th>\n",
       "      <th>Change_views</th>\n",
       "      <th>Total_views</th>\n",
       "      <th>Date_day</th>\n",
       "      <th>min_earn</th>\n",
       "      <th>max_earn</th>\n",
       "    </tr>\n",
       "  </thead>\n",
       "  <tbody>\n",
       "    <tr>\n",
       "      <th>0</th>\n",
       "      <td>124000000</td>\n",
       "      <td>113756341</td>\n",
       "      <td>95326102355</td>\n",
       "      <td>14</td>\n",
       "      <td>56878</td>\n",
       "      <td>227513</td>\n",
       "    </tr>\n",
       "    <tr>\n",
       "      <th>1</th>\n",
       "      <td>125000000</td>\n",
       "      <td>133928337</td>\n",
       "      <td>95439858696</td>\n",
       "      <td>15</td>\n",
       "      <td>66964</td>\n",
       "      <td>267857</td>\n",
       "    </tr>\n",
       "    <tr>\n",
       "      <th>2</th>\n",
       "      <td>125000000</td>\n",
       "      <td>124362406</td>\n",
       "      <td>95573787033</td>\n",
       "      <td>16</td>\n",
       "      <td>62181</td>\n",
       "      <td>248725</td>\n",
       "    </tr>\n",
       "    <tr>\n",
       "      <th>3</th>\n",
       "      <td>125000000</td>\n",
       "      <td>118884797</td>\n",
       "      <td>95698149439</td>\n",
       "      <td>17</td>\n",
       "      <td>59442</td>\n",
       "      <td>237770</td>\n",
       "    </tr>\n",
       "    <tr>\n",
       "      <th>4</th>\n",
       "      <td>125000000</td>\n",
       "      <td>129227936</td>\n",
       "      <td>95817034236</td>\n",
       "      <td>18</td>\n",
       "      <td>64614</td>\n",
       "      <td>258456</td>\n",
       "    </tr>\n",
       "  </tbody>\n",
       "</table>\n",
       "</div>"
      ],
      "text/plain": [
       "  Total_Subscribers Change_views  Total_views  Date_day  min_earn  max_earn\n",
       "0         124000000    113756341  95326102355        14     56878    227513\n",
       "1         125000000    133928337  95439858696        15     66964    267857\n",
       "2         125000000    124362406  95573787033        16     62181    248725\n",
       "3         125000000    118884797  95698149439        17     59442    237770\n",
       "4         125000000    129227936  95817034236        18     64614    258456"
      ]
     },
     "execution_count": 206,
     "metadata": {},
     "output_type": "execute_result"
    }
   ],
   "source": [
    "tseries.head()"
   ]
  },
  {
   "cell_type": "markdown",
   "metadata": {},
   "source": [
    "### we try to plot graph between date and max_earning and minimum_earn"
   ]
  },
  {
   "cell_type": "code",
   "execution_count": 226,
   "metadata": {},
   "outputs": [
    {
     "data": {
      "text/plain": [
       "Text(0.5, 0, 'date')"
      ]
     },
     "execution_count": 226,
     "metadata": {},
     "output_type": "execute_result"
    },
    {
     "data": {
      "image/png": "[encoded data removed]",
      "text/plain": [
       "<Figure size 432x288 with 1 Axes>"
      ]
     },
     "metadata": {
      "needs_background": "light"
     },
     "output_type": "display_data"
    }
   ],
   "source": [
    "tseries.groupby('Date_day')['max_earn'].mean().plot(kind='line')\n",
    "plt.ylabel('max_earn')\n",
    "plt.xlabel('date')\n",
    "# we can see after 20jan not much drop in max_earning \n",
    "# recommendation release near festival or independence or special event"
   ]
  },
  {
   "cell_type": "code",
   "execution_count": 225,
   "metadata": {},
   "outputs": [
    {
     "data": {
      "text/plain": [
       "Text(0.5, 0, 'date')"
      ]
     },
     "execution_count": 225,
     "metadata": {},
     "output_type": "execute_result"
    },
    {
     "data": {
      "image/png": "[encoded data removed]",
      "text/plain": [
       "<Figure size 432x288 with 1 Axes>"
      ]
     },
     "metadata": {
      "needs_background": "light"
     },
     "output_type": "display_data"
    }
   ],
   "source": [
    "tseries.groupby('Date_day')['min_earn'].mean().plot(kind='line') # both graph are same for min_earning\n",
    "plt.ylabel('min_earn')\n",
    "plt.xlabel('date')"
   ]
  },
  {
   "cell_type": "markdown",
   "metadata": {},
   "source": [
    "### Graph between earning and Total_Subscribers \n",
    "\n",
    "### 1) almost not much difference between subscription but if subscription will increase then views will increase then earning will increase\n"
   ]
  },
  {
   "cell_type": "code",
   "execution_count": 227,
   "metadata": {},
   "outputs": [
    {
     "data": {
      "text/plain": [
       "Text(0.5, 0, 'Total_Subscribers')"
      ]
     },
     "execution_count": 227,
     "metadata": {},
     "output_type": "execute_result"
    },
    {
     "data": {
      "image/png": "[encoded data removed]",
      "text/plain": [
       "<Figure size 432x288 with 1 Axes>"
      ]
     },
     "metadata": {
      "needs_background": "light"
     },
     "output_type": "display_data"
    }
   ],
   "source": [
    "plt.bar(tseries['Total_Subscribers'],tseries['max_earn'])\n",
    "plt.ylabel('max_earn ')  \n",
    "plt.xlabel('Total_Subscribers')  "
   ]
  },
  {
   "cell_type": "code",
   "execution_count": 228,
   "metadata": {},
   "outputs": [
    {
     "data": {
      "text/plain": [
       "Text(0.5, 0, 'Total_Subscribers')"
      ]
     },
     "execution_count": 228,
     "metadata": {},
     "output_type": "execute_result"
    },
    {
     "data": {
      "image/png": "[encoded data removed]",
      "text/plain": [
       "<Figure size 432x288 with 1 Axes>"
      ]
     },
     "metadata": {
      "needs_background": "light"
     },
     "output_type": "display_data"
    }
   ],
   "source": [
    "plt.bar(tseries['Total_Subscribers'],tseries['max_earn'])\n",
    "plt.ylabel('min_earn ') \n",
    "plt.xlabel('Total_Subscribers')  "
   ]
  },
  {
   "cell_type": "markdown",
   "metadata": {},
   "source": [
    "###  Views vs max_earn  : from  graph we can't say so much but I read from this link                                                     https://influencermarketinghub.com/4-factors-affect-youtube-earnings-potential/  that earning depend on views coming from which country like some dollars on per 1000 views"
   ]
  },
  {
   "cell_type": "code",
   "execution_count": 243,
   "metadata": {},
   "outputs": [
    {
     "data": {
      "text/plain": [
       "Text(0.5, 0, 'Change_views')"
      ]
     },
     "execution_count": 243,
     "metadata": {},
     "output_type": "execute_result"
    },
    {
     "data": {
      "image/png": "[encoded data removed]",
      "text/plain": [
       "<Figure size 432x288 with 1 Axes>"
      ]
     },
     "metadata": {
      "needs_background": "light"
     },
     "output_type": "display_data"
    }
   ],
   "source": [
    "plt.plot(tseries['Change_views'],tseries['max_earn'])\n",
    "plt.ylabel('max_earn ') \n",
    "plt.xlabel('Change_views')  "
   ]
  },
  {
   "cell_type": "markdown",
   "metadata": {},
   "source": [
    "### Let we try to predict one by one min_earn and max_earn\n"
   ]
  },
  {
   "cell_type": "code",
   "execution_count": 258,
   "metadata": {},
   "outputs": [
    {
     "data": {
      "text/html": [
       "<div>\n",
       "<style scoped>\n",
       "    .dataframe tbody tr th:only-of-type {\n",
       "        vertical-align: middle;\n",
       "    }\n",
       "\n",
       "    .dataframe tbody tr th {\n",
       "        vertical-align: top;\n",
       "    }\n",
       "\n",
       "    .dataframe thead th {\n",
       "        text-align: right;\n",
       "    }\n",
       "</style>\n",
       "<table border=\"1\" class=\"dataframe\">\n",
       "  <thead>\n",
       "    <tr style=\"text-align: right;\">\n",
       "      <th></th>\n",
       "      <th>Total_Subscribers</th>\n",
       "      <th>Change_views</th>\n",
       "      <th>Total_views</th>\n",
       "      <th>Date_day</th>\n",
       "      <th>min_earn</th>\n",
       "      <th>max_earn</th>\n",
       "    </tr>\n",
       "  </thead>\n",
       "  <tbody>\n",
       "    <tr>\n",
       "      <th>0</th>\n",
       "      <td>124000000</td>\n",
       "      <td>113756341</td>\n",
       "      <td>95326102355</td>\n",
       "      <td>14</td>\n",
       "      <td>56878</td>\n",
       "      <td>227513</td>\n",
       "    </tr>\n",
       "    <tr>\n",
       "      <th>1</th>\n",
       "      <td>125000000</td>\n",
       "      <td>133928337</td>\n",
       "      <td>95439858696</td>\n",
       "      <td>15</td>\n",
       "      <td>66964</td>\n",
       "      <td>267857</td>\n",
       "    </tr>\n",
       "    <tr>\n",
       "      <th>2</th>\n",
       "      <td>125000000</td>\n",
       "      <td>124362406</td>\n",
       "      <td>95573787033</td>\n",
       "      <td>16</td>\n",
       "      <td>62181</td>\n",
       "      <td>248725</td>\n",
       "    </tr>\n",
       "    <tr>\n",
       "      <th>3</th>\n",
       "      <td>125000000</td>\n",
       "      <td>118884797</td>\n",
       "      <td>95698149439</td>\n",
       "      <td>17</td>\n",
       "      <td>59442</td>\n",
       "      <td>237770</td>\n",
       "    </tr>\n",
       "    <tr>\n",
       "      <th>4</th>\n",
       "      <td>125000000</td>\n",
       "      <td>129227936</td>\n",
       "      <td>95817034236</td>\n",
       "      <td>18</td>\n",
       "      <td>64614</td>\n",
       "      <td>258456</td>\n",
       "    </tr>\n",
       "  </tbody>\n",
       "</table>\n",
       "</div>"
      ],
      "text/plain": [
       "  Total_Subscribers Change_views  Total_views  Date_day  min_earn  max_earn\n",
       "0         124000000    113756341  95326102355        14     56878    227513\n",
       "1         125000000    133928337  95439858696        15     66964    267857\n",
       "2         125000000    124362406  95573787033        16     62181    248725\n",
       "3         125000000    118884797  95698149439        17     59442    237770\n",
       "4         125000000    129227936  95817034236        18     64614    258456"
      ]
     },
     "execution_count": 258,
     "metadata": {},
     "output_type": "execute_result"
    }
   ],
   "source": [
    "tseries.head() # values are very large so it needs to scale the data before applying model"
   ]
  },
  {
   "cell_type": "code",
   "execution_count": 245,
   "metadata": {},
   "outputs": [],
   "source": [
    "target_min=tseries['min_earn']\n",
    "target_max=tseries['max_earn']\n",
    "X=tseries.drop(columns=['min_earn','max_earn'],axis=1)"
   ]
  },
  {
   "cell_type": "markdown",
   "metadata": {},
   "source": [
    "## Target variable as min_earn"
   ]
  },
  {
   "cell_type": "code",
   "execution_count": 264,
   "metadata": {},
   "outputs": [],
   "source": [
    "# first we apply linear regression model \n",
    "# then we check the assumption of linear regression\n",
    "from sklearn.linear_model import LinearRegression\n",
    "from sklearn.model_selection import train_test_split\n",
    "from sklearn.metrics import r2_score,mean_squared_error\n",
    "from sklearn.preprocessing import StandardScaler\n",
    "X_train, X_test, y_train, y_test = train_test_split(X, target_min, test_size=0.30, random_state=42)\n",
    "sc=StandardScaler()"
   ]
  },
  {
   "cell_type": "code",
   "execution_count": 265,
   "metadata": {},
   "outputs": [
    {
     "name": "stdout",
     "output_type": "stream",
     "text": [
      "R square  0.9999999844413543\n",
      "RMSE 0.42046453745734585\n"
     ]
    }
   ],
   "source": [
    "scaleXtrain=sc.fit_transform(X_train)\n",
    "scaleXtest=sc.transform(X_test)\n",
    "lr=LinearRegression()\n",
    "model=lr.fit(scaleXtrain,y_train)\n",
    "ypred=lr.predict(scaleXtest)\n",
    "print('R square ',r2_score(y_test,ypred))# Rsquare is measurement metrics in regression problem it tells explained variation of target variable explained by independent variable\n",
    "print('RMSE' ,np.sqrt(mean_squared_error(y_test,ypred)))"
   ]
  },
  {
   "cell_type": "markdown",
   "metadata": {},
   "source": [
    "## Target variable as max_earn"
   ]
  },
  {
   "cell_type": "code",
   "execution_count": 266,
   "metadata": {},
   "outputs": [
    {
     "name": "stdout",
     "output_type": "stream",
     "text": [
      "R square  0.9999999995733618\n",
      "RMSE 0.27850519857344563\n"
     ]
    }
   ],
   "source": [
    "# first we apply linear regression model \n",
    "# then we check the assumption of linear regression\n",
    "from sklearn.linear_model import LinearRegression\n",
    "from sklearn.model_selection import train_test_split\n",
    "from sklearn.metrics import r2_score,mean_squared_error\n",
    "from sklearn.preprocessing import StandardScaler\n",
    "X_train, X_test, y_train, y_test = train_test_split(X, target_max, test_size=0.30, random_state=42)\n",
    "sc=StandardScaler()\n",
    "scaleXtrain=sc.fit_transform(X_train)\n",
    "scaleXtest=sc.transform(X_test)\n",
    "lr=LinearRegression()\n",
    "model=lr.fit(scaleXtrain,y_train)\n",
    "ypred=lr.predict(scaleXtest)\n",
    "print('R square ',r2_score(y_test,ypred))# Rsquare is measurement metrics in regression problem it tells explained variation of target variable explained by independent variable\n",
    "print('RMSE' ,np.sqrt(mean_squared_error(y_test,ypred)))"
   ]
  },
  {
   "cell_type": "markdown",
   "metadata": {},
   "source": [
    "### 1)  From this dataset we not get much information because of less data on the website restriction  but some website has advanced machine learning that analysing live and plot graphs  so we learn from there one of them is https://www.noxinfluencer.com/youtube/channel/UCq-Fj5jknLsUf-MWSy4_brA \n",
    "\\"
   ]
  },
  {
   "cell_type": "markdown",
   "metadata": {},
   "source": [
    "### 2) From graph we can say that male and female both are equally visiting on tseries channel but there is one important thing age group is very important 18 to 34 age group are more active on this channel "
   ]
  },
  {
   "cell_type": "code",
   "execution_count": 284,
   "metadata": {},
   "outputs": [
    {
     "data": {
      "image/png": "[encoded data removed]",
      "text/plain": [
       "<IPython.core.display.Image object>"
      ]
     },
     "execution_count": 284,
     "metadata": {},
     "output_type": "execute_result"
    }
   ],
   "source": [
    "from IPython.display import Image\n",
    "Image(filename='download.PNG') # this image is imported from the above link \n"
   ]
  },
  {
   "cell_type": "markdown",
   "metadata": {},
   "source": [
    "## Pie chart of audience  coming from which country\n",
    "### From the graph maximum views are coming from india , united states and others countries "
   ]
  },
  {
   "cell_type": "code",
   "execution_count": 285,
   "metadata": {},
   "outputs": [
    {
     "data": {
      "image/png": "[encoded data removed]",
      "text/plain": [
       "<IPython.core.display.Image object>"
      ]
     },
     "execution_count": 285,
     "metadata": {},
     "output_type": "execute_result"
    }
   ],
   "source": [
    "from IPython.display import Image\n",
    "Image(filename='download1.PNG') # this image is imported from the above link \n",
    "# Brown are others not in the list due to a sequence list in link"
   ]
  },
  {
   "cell_type": "markdown",
   "metadata": {},
   "source": [
    "### Bar Plot of Active users at time distribution of 24 hour\n",
    "\n",
    "#### 1) lowest time range is 00:00 to 8:00 and after almost equal distribution of time , peak time when user active is after 22:00"
   ]
  },
  {
   "cell_type": "code",
   "execution_count": 286,
   "metadata": {},
   "outputs": [
    {
     "data": {
      "image/png": "[encoded data removed]",
      "text/plain": [
       "<IPython.core.display.Image object>"
      ]
     },
     "execution_count": 286,
     "metadata": {},
     "output_type": "execute_result"
    }
   ],
   "source": [
    "from IPython.display import Image\n",
    "Image(filename='download2.PNG')"
   ]
  },
  {
   "cell_type": "code",
   "execution_count": null,
   "metadata": {},
   "outputs": [],
   "source": []
  }
 ],
 "metadata": {
  "kernelspec": {
   "display_name": "Python 3",
   "language": "python",
   "name": "python3"
  },
  "language_info": {
   "codemirror_mode": {
    "name": "ipython",
    "version": 3
   },
   "file_extension": ".py",
   "mimetype": "text/x-python",
   "name": "python",
   "nbconvert_exporter": "python",
   "pygments_lexer": "ipython3",
   "version": "3.7.3"
  }
 },
 "nbformat": 4,
 "nbformat_minor": 2
}
